{
 "cells": [
  {
   "cell_type": "markdown",
   "metadata": {},
   "source": [
    "# 01: Linear Least Squares Regression\n",
    "\n",
    "Say you want to predict a $y$ value given some $x$ value. For instance, maybe we want to predict the value of a skyscraper building (our $y$ value, measured in dollars) from its height (our $x$ value, in meters).\n",
    "\n",
    "What we want is a function $f$ that takes in an $x$ and outputs a $y$. For instance, if we want to predict the value of a 100 meter tall building, we would calculate $f(100)$. In the context of machine learning, we call this the *model*.\n",
    "\n",
    "There are all sorts of functions that $f$ could be: linear, quadratic, exponential, logarithmic. But in machine learning, we typically restrict the models under consideration to a *model class* (also called a *model family*): functions that fit a standard format. For this notebook, we'll only look at *linear* models: $f(x) = \\theta_0 + \\theta_1 x$.\n",
    "\n",
    "*Regression* is the task of choosing a model to predict a real value $y$ from an input value $x$ (also typically a real value, but not necessarily). As a reminder: a *real number* could be $100$ or $37.54$ or $\\pi$. Regression is in contrast to *classification*, which is the prediction of a *class* $y$ from an input value $x$. For instance, a class could be \"Picture of a cat\" or \"Picture of a dog.\" We'll talk about regression next lecture.\n",
    "\n",
    "*Linear* regression is a regression problem where we only consider lines as possible models. How will we choose which line? To do so, we will first need to use *training* data. Training data are previously observed pairs of $x$s and $y$s. We normally denote the $i$th of $N$ training datapoint like so: $(x_i, y_i)$.\n",
    "\n",
    "How will we use the training data to pick a linear model? Well, a model that can predict skyscraper values in the future should also be able to have predicted skyscraper prices in the past. So the ideal is to pick a line that goes through the observed $(x_i, y_i)$ training set values.\n",
    "\n",
    "To start making this real, let's generate some training data and graph it."
   ]
  },
  {
   "cell_type": "code",
   "execution_count": 1,
   "metadata": {},
   "outputs": [
    {
     "name": "stdout",
     "output_type": "stream",
     "text": [
      "x shape: (100,)\n",
      "y shape: (100,)\n"
     ]
    },
    {
     "data": {
      "image/png": "[encoded data removed]",
      "text/plain": [
       "<matplotlib.figure.Figure at 0x108dcef28>"
      ]
     },
     "metadata": {},
     "output_type": "display_data"
    }
   ],
   "source": [
    "%matplotlib inline\n",
    "\n",
    "from lib.dataset import DATASET\n",
    "from examples import generate_data_example\n",
    "\n",
    "generate_data_example.run(DATASET)"
   ]
  },
  {
   "cell_type": "markdown",
   "metadata": {},
   "source": [
    "The `DataSet` class has a true `THETA0` and a true `THETA1`: we'll pretend we don't know those. Our goal is to *learn* them. In the `generate_data` method, I *uniformly* sample $x$ values in the range $[0, 100]$. That means that the probability that a sampled $x$ value lands in some range $(a, b)$ is always proportional to the range's *width*: $b - a$. Put another way: the $x$ values should be spread evenly throughout the overall range $[0, 100]$.\n",
    "\n",
    "I then calculate the \"true\" $y$ value using the equation $y = \\theta_0 + \\theta_1 x$. If I graphed the \"true\" $y$ values, then they would all lie perfectly on that line.\n",
    "\n",
    "### Normal Distribution of Noise\n",
    "However, I also generate *noise*, which is random variation that cannot be guessed from the $x$ value. I then add this noise into the $y$ value.\n",
    "\n",
    "Why add this noise? In real life, an output value like $y$ will be a function of many, many factors. We are only using one factor ($x$, the height of the skyscraper). We are ignoring all the other factors.\n",
    "\n",
    "Some of those factors could be \"truly\" random (as in, at the quantum mechanics level). But most factors probably act in a deterministic way, except that we haven't measured those factors, so we can't account for them. For instance, it is relevant *where* the building is to how much it is *worth*. In fact, in real life we wouldn't expect to be able to predict a skyscraper's price very well at all without knowledge of where it is.\n",
    "\n",
    "Since we don't know the skyscrapers' locations, we cannot account for its impact on the value of a skyscraper. The effect of unmeasured factors (like location in this instance) thus looks like *noise*: random variation that makes it so that no line perfectly fits the data.\n",
    "\n",
    "When generating noise, I sample from a *normal distribution*, also called a *Gaussian distribution*. The shape of this kind of distribution is the *bell curve*.\n",
    "\n",
    "The [Central Limit Theorem](https://en.wikipedia.org/wiki/Central_limit_theorem) says that the effect of many small factors will be will approximated by a normal distribution. (There are many technical assumptions that need to apply, but we will ignore those). The key thing about the central limit theorem is that it doesn't matter *how* the factors effect the result (linear, quadratic, exponential, whatever), so long as there are many of them and they are small.\n",
    "\n",
    "(Note: the proof of the Central Limit Theorem is pretty technical. We don't need to prove it to use it.)\n",
    "\n",
    "An example: human height tends to be distributed in a bell curve shape because it is the result of many small factors.\n",
    "\n",
    "It is therefore natural to generate noise that is normally distributed. My assumption is that there are many unaccounted for factors that effect skyscraper value. I don't know how any one of those factors effects skyscraper value, but the Central Limit Theorem says that, in aggregate, the effect is normally distributed.\n",
    "\n",
    "Because the noise is a result from factors other than $x$, it is theoretically impossible to perfectly predict $y$ from $x$. Therefore our goal is to do the best we can, and try to discover that part of the skyscrapper value which *is* predictable from the height.\n",
    "\n",
    "### Sum of Squared Errors\n",
    "\n",
    "So we want to learn how to best predict the $y$ values using the $x$ value, knowing that this is only a \"best guess,\" and that there will still be some variation in the $y$ value. How do we use the observed $(x_i, y_i)$ training data to do this?\n",
    "\n",
    "Since no line can never perfectly pass through the datapoints, our goal will be to pick a line $f$ where $f(x_i)$ is as close as possible to $y_i$ for each of the training datapoints $(x_i, y_i)$. We call the difference $f(x_i) - y_i$ the *error* of the model $f$ at training datapoint $(x_i, y_i)$. What we want to do is *minimize* the *overall sum* of $|f(x_i) - y_i|$ across all the datapoints. The reason we take the absolute value is because both underestimates and overestimates of $f(x_i)$ contribute positively to the overall error. Therefore, we want to minimize the *sum of absolute errors*. Let me write that out:\n",
    "\n",
    "\\\\[\n",
    "AbsErr(\\hat\\theta_0, \\hat\\theta_1) \n",
    "= \\sum_{i = 0}^N \\left|\\hat{y}_i - y_i\\right|\n",
    "= \\sum_{i = 0}^N \\left|f_{\\hat\\theta_0, \\hat\\theta_1}(x_i) - y_i\\right|\n",
    "= \\sum_{i = 0}^N \\left|(\\hat\\theta_0 + \\hat\\theta_1 x_i) - y_i\\right|\n",
    "\\\\]\n",
    "\n",
    "Here, I've used $\\hat\\theta_0, \\hat\\theta_1$ to represent our *estimates* of the true values of $\\theta_0, \\theta_1$. We put a \"hat\" on any quantity that is an estimate: for instance $\\hat{y}_i$ is our estimate of $y_i$ using the model. The function $f_{\\hat\\theta_0, \\hat\\theta_1}$ is just the line $\\hat\\theta_0 + \\hat\\theta_1 x$. However, I will typically leave out the subscript of $f$ when it won't cause confusion.\n",
    "\n",
    "Since every linear model $f$ can be written as $f_{\\theta_0, \\theta_1}$ for some $\\theta_0, \\theta_1$, we sometimes say that the class of linear models is *parameterized* by the *parameters* $\\hat\\theta_0$.\n",
    "\n",
    "There is a more common choice of error function called the *squared error* or the *sum of squared errors*. This is abbreviated *SSE* commonly. Here is how we define it:\n",
    "\n",
    "\\\\[\n",
    "SSE(\\hat\\theta_0, \\hat\\theta_1) \n",
    "= \\sum_{i = 0}^N \\left( \\hat{y}_i - y_i \\right)^2\n",
    "= \\sum_{i = 0}^N \\left( f_{\\hat\\theta_0, \\hat\\theta_1}(x_i) - y_i \\right)^2\n",
    "= \\sum_{i = 0}^N \\left( \\left( \\hat\\theta_0 + \\hat\\theta_1 x_i \\right) - y_i \\right)^2\n",
    "\\\\]\n",
    "\n",
    "This is the same as the absolute error, except we square the errors. We don't need the absolute value sign anymore because an error squared is always positive.\n",
    "\n",
    "Why use squared errors rather than absolute errors? I will show you later: it turns out that using the squared errors is the right choice if we think the noise is normally distributed.\n",
    "\n",
    "### Calculating the SSE\n",
    "\n",
    "Now, let's plot a line through the data. We'll plot the \"true\" model line $\\theta_0 + \\theta_1 x$. We'll also graph the errors and find the SSE. Note that I report the *average* squared error. The average squared error is often nice to use, because it is insensitive to the number of examples in the dataset."
   ]
  },
  {
   "cell_type": "code",
   "execution_count": 2,
   "metadata": {},
   "outputs": [
    {
     "name": "stdout",
     "output_type": "stream",
     "text": [
      "Average Squared Error: 596.33\n"
     ]
    },
    {
     "data": {
      "image/png": "[encoded data removed]",
      "text/plain": [
       "<matplotlib.figure.Figure at 0x10b46c668>"
      ]
     },
     "metadata": {},
     "output_type": "display_data"
    }
   ],
   "source": [
    "from examples import true_model_example\n",
    "\n",
    "true_model_example.run(DATASET)"
   ]
  },
  {
   "cell_type": "markdown",
   "metadata": {},
   "source": [
    "As a quick check, we can take the square root of the average squared error: $\\sqrt{596.33} = 24.41$. That is roughly the \"average\" error. (Technically the square root of the average square can be a little different from the average.) Anyway $24.41$ looks about right for the average error. Not so bad! And isn't it fascinating how close that is to `NOISE_STDDEV`, which is $25$? Hmmm... We'll return to that later.\n",
    "\n",
    "Notice that even the *true* model has some squared error. That's because the noise from the other, unaccounted for factors means you can't perfectly predict $y_i$ from just $x_i$.\n",
    "\n",
    "### Learning Model Parameters\n",
    "\n",
    "Let's start trying to find the best model of the dataset, and pretend that we don't know the true $\\theta_0, \\theta_1$. We want to pick values $\\hat\\theta_0, \\hat\\theta_1$ such that the SSE is minimized. That is, we want to minimize:\n",
    "\n",
    "\\\\[\n",
    "\\sum_{i = 0}^N \\left( \\left( \\hat\\theta_0 + \\hat\\theta_1 x_i \\right) - y_i \\right)^2\n",
    "\\\\]\n",
    "\n",
    "If you treat $y_i$ and $x_i$ as constants, this is a quadratic polynomial in $\\hat\\theta_0, \\hat\\theta_1$. Polynomials are always *differentiable*, which means that their minima/maxima are always at locations where the derivative is zero. That is, at points where both:\n",
    "\n",
    "\\\\[\n",
    "\\begin{alignat*}{3}\n",
    "\\frac{\\partial E}{\\partial \\hat\\theta_0} &= \\sum_{i=1}^N 2 \\left(\n",
    "                                              \\left( \\hat\\theta_0 + \\hat\\theta_1 x_i \\right) - y_i\n",
    "                                            \\right) \\big(1\\big) &&= 0\\\\\n",
    "\\frac{\\partial E}{\\partial \\hat\\theta_1} &= \\sum_{i=1}^N 2 \\left(\n",
    "                                              \\left( \\hat\\theta_0 + \\hat\\theta_1 x_i \\right) - y_i\n",
    "                                            \\right) \\big( x_i \\big) &&= 0\\\\\n",
    "\\end{alignat*}\n",
    "\\\\]\n",
    "\n",
    "Notice how I used the chain rule! In fact we know that the sum of squared errors is an always positive quadratic function. An always positive quadratic function always has a single minimum value at precisely the $\\hat\\theta_0, \\hat\\theta_1$ that satisfies these equations!\n",
    "\n"
   ]
  },
  {
   "cell_type": "code",
   "execution_count": null,
   "metadata": {
    "collapsed": true
   },
   "outputs": [],
   "source": []
  }
 ],
 "metadata": {
  "kernelspec": {
   "display_name": "Python (default)",
   "language": "python",
   "name": "conda-default"
  },
  "language_info": {
   "codemirror_mode": {
    "name": "ipython",
    "version": 3
   },
   "file_extension": ".py",
   "mimetype": "text/x-python",
   "name": "python",
   "nbconvert_exporter": "python",
   "pygments_lexer": "ipython3",
   "version": "3.6.0"
  }
 },
 "nbformat": 4,
 "nbformat_minor": 2
}
